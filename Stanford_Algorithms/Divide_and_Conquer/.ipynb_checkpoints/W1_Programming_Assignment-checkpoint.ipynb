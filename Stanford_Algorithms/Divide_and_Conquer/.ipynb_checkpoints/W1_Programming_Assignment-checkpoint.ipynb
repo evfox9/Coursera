{
 "cells": [
  {
   "cell_type": "markdown",
   "metadata": {},
   "source": [
    "# Programming Assignment #1 by using Karatsuba's algorithm "
   ]
  },
  {
   "cell_type": "markdown",
   "metadata": {},
   "source": [
    "### Q: What's the product of the following two 64-digit numbers?\n",
    "\n",
    "3141592653589793238462643383279502884197169399375105820974944592\n",
    "\n",
    "2718281828459045235360287471352662497757247093699959574966967627"
   ]
  },
  {
   "cell_type": "code",
   "execution_count": 1,
   "metadata": {},
   "outputs": [
    {
     "name": "stdout",
     "output_type": "stream",
     "text": [
      "8539734222673567065463550869546574495034888535765114961879601127067743044893204848617875072216249073013374895871952806582723184\n"
     ]
    }
   ],
   "source": [
    "x = 3141592653589793238462643383279502884197169399375105820974944592\n",
    "y = 2718281828459045235360287471352662497757247093699959574966967627\n",
    "\n",
    "answer = x*y\n",
    "print(answer)"
   ]
  },
  {
   "cell_type": "markdown",
   "metadata": {},
   "source": [
    "#### Step 1: Compute a*c"
   ]
  },
  {
   "cell_type": "code",
   "execution_count": 2,
   "metadata": {},
   "outputs": [
    {
     "name": "stdout",
     "output_type": "stream",
     "text": [
      "a = 31415926535897932384626433832795, c = 27182818284590452353602874713526\n",
      "a*c = 853973422267356706546355086954637031247909995660108279808885170\n"
     ]
    }
   ],
   "source": [
    "a = int(''.join(list(str(x))[:32]))\n",
    "c = int(''.join(list(str(y))[:32]))\n",
    "\n",
    "print('a = {}, c = {}'.format(a,c))\n",
    "\n",
    "ac = a*c\n",
    "\n",
    "print('a*c = {}'.format(ac))"
   ]
  },
  {
   "cell_type": "markdown",
   "metadata": {},
   "source": [
    "#### Step 2: Compute b*d"
   ]
  },
  {
   "cell_type": "code",
   "execution_count": 3,
   "metadata": {
    "scrolled": true
   },
   "outputs": [
    {
     "name": "stdout",
     "output_type": "stream",
     "text": [
      "b = 2884197169399375105820974944592, d = 62497757247093699959574966967627\n",
      "b*d = 180255854545876931315273184330549073013374895871952806582723184\n"
     ]
    }
   ],
   "source": [
    "b = int(''.join(list(str(x))[32:]))\n",
    "d = int(''.join(list(str(y))[32:]))\n",
    "\n",
    "print('b = {}, d = {}'.format(b,d))\n",
    "\n",
    "bd = b*d\n",
    "\n",
    "print('b*d = {}'.format(bd))"
   ]
  },
  {
   "cell_type": "markdown",
   "metadata": {},
   "source": [
    "#### Step 3: Compute (a+b)(c+d)"
   ]
  },
  {
   "cell_type": "code",
   "execution_count": 4,
   "metadata": {},
   "outputs": [
    {
     "name": "stdout",
     "output_type": "stream",
     "text": [
      "abcd = 3076054834699025278183266178779454979133188364811234112410487211\n"
     ]
    }
   ],
   "source": [
    "abcd = (a+b)*(c+d)\n",
    "\n",
    "print('abcd = {}'.format(abcd))"
   ]
  },
  {
   "cell_type": "markdown",
   "metadata": {},
   "source": [
    "#### Step 4: Compute (Step 3) - (Step 2) - (Step 1)"
   ]
  },
  {
   "cell_type": "code",
   "execution_count": 5,
   "metadata": {},
   "outputs": [
    {
     "name": "stdout",
     "output_type": "stream",
     "text": [
      "s = 2041825557885791640321637907494268874871903473279173026018878857\n"
     ]
    }
   ],
   "source": [
    "s = abcd - bd - ac\n",
    "\n",
    "print('s = {}'.format(s))"
   ]
  },
  {
   "cell_type": "markdown",
   "metadata": {},
   "source": [
    "#### Step 5: Complete"
   ]
  },
  {
   "cell_type": "code",
   "execution_count": 6,
   "metadata": {},
   "outputs": [
    {
     "name": "stdout",
     "output_type": "stream",
     "text": [
      "8539734222673567065463550869546574495034888535765114961879601127067743044893204848617875072216249073013374895871952806582723184\n",
      "True\n"
     ]
    }
   ],
   "source": [
    "s1 = int(''.join(list(str(s))[:32]))\n",
    "s2 = int(''.join(list(str(s))[32:]+['0']*32))\n",
    "\n",
    "ac += s1\n",
    "bd += s2\n",
    "\n",
    "if len(str(bd)) > 64:\n",
    "    s3 = int(str(bd)[0])\n",
    "    ac += s3\n",
    "    \n",
    "    bd = int(''.join(list(str(bd))[1:]))\n",
    "\n",
    "result = int(''.join(list(str(ac))+list(str(bd))))\n",
    "print(result)\n",
    "print(answer == result)"
   ]
  }
 ],
 "metadata": {
  "kernelspec": {
   "display_name": "Python 3",
   "language": "python",
   "name": "python3"
  },
  "language_info": {
   "codemirror_mode": {
    "name": "ipython",
    "version": 3
   },
   "file_extension": ".py",
   "mimetype": "text/x-python",
   "name": "python",
   "nbconvert_exporter": "python",
   "pygments_lexer": "ipython3",
   "version": "3.7.6"
  }
 },
 "nbformat": 4,
 "nbformat_minor": 4
}
