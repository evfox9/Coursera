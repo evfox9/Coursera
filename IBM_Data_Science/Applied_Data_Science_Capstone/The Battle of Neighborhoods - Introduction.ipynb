{
 "cells": [
  {
   "cell_type": "markdown",
   "metadata": {},
   "source": [
    "# The Battle of Neighborhoods - Introduction"
   ]
  },
  {
   "cell_type": "markdown",
   "metadata": {},
   "source": [
    "## Problem Description"
   ]
  },
  {
   "cell_type": "markdown",
   "metadata": {},
   "source": [
    "<img src=\"https://i0.wp.com/ecocitiesemerging.org/wp-content/uploads/2015/06/Aerial-of-Halifax-e1435598946455.jpg?w=1620&ssl=1\" style=\"width: 300px;\"/>"
   ]
  },
  {
   "cell_type": "markdown",
   "metadata": {},
   "source": [
    "Suppose you're currently living in **Seoul, Korea**, you decided to start over at **Canada** and you want to live in smaller city like **Halifax, Nova Scotia** for example. Since these two countries have different culture and you never lived in Canada or Halifax before, so you've got no information about the city. In this situation, how would you choose your new neighborhood?\n",
    "\n",
    "I chose this problem from my personal experience. I lived in Seoul area, one of the most crowded place, for more than 20 years. Seoul is a great city, has excellent public transportation and extremely safe. But sometimes, I get tired of people around me and want to live somewhere else with less people, more scenery. One of the obstacle for moving out is, it's hard to live at somewhere you know nothing about. \n",
    "\n",
    "This can be helpful to people who want to move out to other region that you never been before."
   ]
  },
  {
   "cell_type": "markdown",
   "metadata": {},
   "source": [
    "## Data Description"
   ]
  },
  {
   "cell_type": "markdown",
   "metadata": {},
   "source": [
    "<img src=\"image/latlng.png\"/>"
   ]
  },
  {
   "cell_type": "markdown",
   "metadata": {},
   "source": [
    "- Geographical data(latitude and longitude) of neighborhoods in Seoul Metropolitian area and HRM(Halifax Reginonal Municipality)."
   ]
  },
  {
   "cell_type": "markdown",
   "metadata": {},
   "source": [
    "<img src=\"image/venues.png\">"
   ]
  },
  {
   "cell_type": "markdown",
   "metadata": {},
   "source": [
    "- Retrieve venues in the neighborhoods by using geographical data"
   ]
  },
  {
   "cell_type": "markdown",
   "metadata": {},
   "source": [
    "<img src=\"image/cluster.png\">"
   ]
  },
  {
   "cell_type": "markdown",
   "metadata": {},
   "source": [
    "- Cluster the neighborhoods by using _k_-mean with the venue data"
   ]
  }
 ],
 "metadata": {
  "kernelspec": {
   "display_name": "Python 3",
   "language": "python",
   "name": "python3"
  },
  "language_info": {
   "codemirror_mode": {
    "name": "ipython",
    "version": 3
   },
   "file_extension": ".py",
   "mimetype": "text/x-python",
   "name": "python",
   "nbconvert_exporter": "python",
   "pygments_lexer": "ipython3",
   "version": "3.8.6"
  }
 },
 "nbformat": 4,
 "nbformat_minor": 4
}
