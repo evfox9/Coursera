{
 "cells": [
  {
   "cell_type": "markdown",
   "metadata": {},
   "source": [
    "# The Battle of Neighborhoods - Final Report"
   ]
  },
  {
   "cell_type": "markdown",
   "metadata": {},
   "source": [
    "## Problem Description"
   ]
  },
  {
   "cell_type": "markdown",
   "metadata": {},
   "source": [
    "<img src=\"https://i0.wp.com/ecocitiesemerging.org/wp-content/uploads/2015/06/Aerial-of-Halifax-e1435598946455.jpg?w=1620&ssl=1\" style=\"width: 300px;\"/>"
   ]
  },
  {
   "cell_type": "markdown",
   "metadata": {},
   "source": [
    "Suppose you're currently living in **Seoul, Korea**, you decided to start over at **Canada** and you want to live in smaller city like **Halifax, Nova Scotia** for example. Since these two countries have different culture and you never lived in Canada or Halifax before, so you've got no information about the city. In this situation, how would you choose your new neighborhood?\n",
    "\n",
    "I chose this problem from my personal experience. I lived in Seoul area, one of the most crowded place, for more than 20 years. Seoul is a great city, has excellent public transportation and extremely safe. But sometimes, I get tired of people around me and want to live somewhere else with less people, more scenery. One of the obstacle for moving out is, it's hard to live at somewhere you know nothing about. \n",
    "\n",
    "This can be helpful to people who want to move out to other region that you never been before."
   ]
  },
  {
   "cell_type": "markdown",
   "metadata": {},
   "source": [
    "## Data Description"
   ]
  },
  {
   "cell_type": "markdown",
   "metadata": {},
   "source": [
    "<img src=\"image/latlng.png\"/>"
   ]
  },
  {
   "cell_type": "markdown",
   "metadata": {},
   "source": [
    "- Geographical data(latitude and longitude) of neighborhoods in Seoul Metropolitian area and HRM(Halifax Reginonal Municipality)."
   ]
  },
  {
   "cell_type": "markdown",
   "metadata": {},
   "source": [
    "<img src=\"image/venues.png\">"
   ]
  },
  {
   "cell_type": "markdown",
   "metadata": {},
   "source": [
    "- Retrieve venues in the neighborhoods by Foursquare API, using geographical data"
   ]
  },
  {
   "cell_type": "markdown",
   "metadata": {},
   "source": [
    "## Methodology"
   ]
  },
  {
   "cell_type": "markdown",
   "metadata": {},
   "source": [
    "- Cluster the neighborhoods by using _k_-mean with the venue data"
   ]
  },
  {
   "cell_type": "markdown",
   "metadata": {},
   "source": [
    "## Result"
   ]
  },
  {
   "cell_type": "markdown",
   "metadata": {},
   "source": [
    "<img src=\"image/cluster.png\">"
   ]
  },
  {
   "cell_type": "markdown",
   "metadata": {},
   "source": [
    "**Cluster Label: 0**\n",
    "\n",
    "1 neighborhood from HRM, 0 neighborhood from Seoul Metropolitian area\n",
    "\n",
    "![](image/cluster0.png)"
   ]
  },
  {
   "cell_type": "markdown",
   "metadata": {},
   "source": [
    "It looks like a rural area, but It's hard to determine since there is only 1 data."
   ]
  },
  {
   "cell_type": "markdown",
   "metadata": {},
   "source": [
    "**Cluster Label: 1**\n",
    "\n",
    "0 neighborhood from HRM, 15 neighborhoods from Seoul Metropolitian area\n",
    "\n",
    "![](image/cluster1.png)"
   ]
  },
  {
   "cell_type": "markdown",
   "metadata": {},
   "source": [
    "Those neighborhoods have many Korean restaurant. No neighborhood from Halifax is included in this cluster. Maybe it's because there aren't many Korean restaurant in Halifax."
   ]
  },
  {
   "cell_type": "markdown",
   "metadata": {},
   "source": [
    "**Cluster Label: 2**\n",
    "\n",
    "2 neighborhoods from HRM, 2 neighborhoods from Seoul Metropolitian area\n",
    "\n",
    "![](image/cluster2.png)"
   ]
  },
  {
   "cell_type": "markdown",
   "metadata": {},
   "source": [
    "Trail and Park stood up in this cluster."
   ]
  },
  {
   "cell_type": "markdown",
   "metadata": {},
   "source": [
    "**Cluster Label: 3**\n",
    "\n",
    "8 neighborhoods from HRM, 27 neighborhoods from Seoul Metropolitian area\n",
    "\n",
    "![](image/cluster3.png)"
   ]
  },
  {
   "cell_type": "markdown",
   "metadata": {},
   "source": [
    "It seems like this cluster is a commercial area."
   ]
  },
  {
   "cell_type": "markdown",
   "metadata": {},
   "source": [
    "**Cluster Label: 4**\n",
    "\n",
    "8 neighborhoods from HRM, 1 neighborhood from Seoul Metropolitian area\n",
    "\n",
    "![](image/cluster4.png)"
   ]
  },
  {
   "cell_type": "markdown",
   "metadata": {},
   "source": [
    "This cluster seems like the outskirts of the city. "
   ]
  },
  {
   "cell_type": "markdown",
   "metadata": {},
   "source": [
    "## Conclusion"
   ]
  },
  {
   "cell_type": "markdown",
   "metadata": {},
   "source": [
    "By using _k_-means, I was able to cluster the neighborhoods of the two regions and analyze it. My personal comment about the result, judging by the number of venues in Seoul, I have to say data provided from Foursquare is insufficient. Could've been better if I used other API that has enough data about venues in Korea."
   ]
  },
  {
   "cell_type": "markdown",
   "metadata": {},
   "source": []
  }
 ],
 "metadata": {
  "kernelspec": {
   "display_name": "Python 3",
   "language": "python",
   "name": "python3"
  },
  "language_info": {
   "codemirror_mode": {
    "name": "ipython",
    "version": 3
   },
   "file_extension": ".py",
   "mimetype": "text/x-python",
   "name": "python",
   "nbconvert_exporter": "python",
   "pygments_lexer": "ipython3",
   "version": "3.8.6"
  }
 },
 "nbformat": 4,
 "nbformat_minor": 4
}
